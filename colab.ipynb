{
 "cells": [
  {
   "cell_type": "code",
   "execution_count": null,
   "metadata": {},
   "outputs": [],
   "source": [
    "!git clone https://github.com/HoanChan/TableVision.git"
   ]
  },
  {
   "cell_type": "code",
   "execution_count": 3,
   "metadata": {},
   "outputs": [],
   "source": [
    "def split_pth_file(input_file, output_file1, output_file2):\n",
    "    with open(input_file, 'rb') as f:\n",
    "        data = f.read()\n",
    "\n",
    "    half_len = len(data) // 2\n",
    "\n",
    "    with open(output_file1, 'wb') as f1, open(output_file2, 'wb') as f2:\n",
    "        f1.write(data[:half_len])\n",
    "        f2.write(data[half_len:])\n",
    "\n",
    "def combine_pth_files(output_file, input_file1, input_file2):\n",
    "    with open(input_file1, 'rb') as f1, open(input_file2, 'rb') as f2:\n",
    "        data1 = f1.read()\n",
    "        data2 = f2.read()\n",
    "\n",
    "    combined_data = data1 + data2\n",
    "\n",
    "    with open(output_file, 'wb') as f:\n",
    "        f.write(combined_data)"
   ]
  },
  {
   "cell_type": "code",
   "execution_count": 4,
   "metadata": {},
   "outputs": [],
   "source": [
    "# Sử dụng hàm để chia và kết hợp tệp .pth\n",
    "split_pth_file(\"models\\pubtables1m_detection_detr_r18.pth\", \"models\\pubtables1m_detection_detr_r18.pth_part1\", \"models\\pubtables1m_detection_detr_r18.pth_part2\")\n",
    "split_pth_file(\"models\\pubtables1m_structure_detr_r18.pth\", \"models\\pubtables1m_structure_detr_r18.pth_part1\", \"models\\pubtables1m_structure_detr_r18.pth_part2\")"
   ]
  },
  {
   "cell_type": "code",
   "execution_count": null,
   "metadata": {},
   "outputs": [],
   "source": [
    "combine_pth_files(\"models\\pubtables1m_detection_detr_r18.pth\", \"models\\pubtables1m_detection_detr_r18.pth_part1\", \"models\\pubtables1m_detection_detr_r18.pth_part2\")\n",
    "combine_pth_files(\"models\\pubtables1m_structure_detr_r18.pth\", \"models\\pubtables1m_structure_detr_r18.pth_part1\", \"models\\pubtables1m_structure_detr_r18.pth_part2\")"
   ]
  }
 ],
 "metadata": {
  "kernelspec": {
   "display_name": "Tensor",
   "language": "python",
   "name": "python3"
  },
  "language_info": {
   "codemirror_mode": {
    "name": "ipython",
    "version": 3
   },
   "file_extension": ".py",
   "mimetype": "text/x-python",
   "name": "python",
   "nbconvert_exporter": "python",
   "pygments_lexer": "ipython3",
   "version": "3.9.16"
  }
 },
 "nbformat": 4,
 "nbformat_minor": 2
}
