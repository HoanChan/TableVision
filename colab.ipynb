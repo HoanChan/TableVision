{
 "cells": [
  {
   "cell_type": "code",
   "execution_count": null,
   "metadata": {},
   "outputs": [],
   "source": [
    "!git clone https://github.com/HoanChan/TableVision.git"
   ]
  },
  {
   "cell_type": "code",
   "execution_count": 3,
   "metadata": {},
   "outputs": [],
   "source": [
    "def split_pth_file(input_file, output_file1, output_file2):\n",
    "    with open(input_file, 'rb') as f:\n",
    "        data = f.read()\n",
    "\n",
    "    half_len = len(data) // 2\n",
    "\n",
    "    with open(output_file1, 'wb') as f1, open(output_file2, 'wb') as f2:\n",
    "        f1.write(data[:half_len])\n",
    "        f2.write(data[half_len:])\n",
    "\n",
    "def combine_pth_files(input_file1, input_file2, output_file):\n",
    "    with open(input_file1, 'rb') as f1, open(input_file2, 'rb') as f2:\n",
    "        data1 = f1.read()\n",
    "        data2 = f2.read()\n",
    "\n",
    "    combined_data = data1 + data2\n",
    "\n",
    "    with open(output_file, 'wb') as f:\n",
    "        f.write(combined_data)"
   ]
  },
  {
   "cell_type": "code",
   "execution_count": 4,
   "metadata": {},
   "outputs": [],
   "source": [
    "# Sử dụng hàm để chia và kết hợp tệp .pth\n",
    "split_pth_file(\"models\\pubtables1m_detection_detr_r18.pth\", \"models\\pubtables1m_detection_detr_r18.pth_part1\", \"models\\pubtables1m_detection_detr_r18.pth_part2\")\n",
    "split_pth_file(\"models\\pubtables1m_structure_detr_r18.pth\", \"models\\pubtables1m_structure_detr_r18.pth_part1\", \"models\\pubtables1m_structure_detr_r18.pth_part2\")"
   ]
  },
  {
   "cell_type": "code",
   "execution_count": null,
   "metadata": {},
   "outputs": [],
   "source": [
    "combine_pth_files(\"/content/TableVision/models/pubtables1m_detection_detr_r18.pth_part1\", \"/content/TableVision/models/pubtables1m_detection_detr_r18.pth_part2\", \"/content/TableVision/models/pubtables1m_detection_detr_r18.pth\")\n",
    "combine_pth_files(\"/content/TableVision/models/pubtables1m_structure_detr_r18.pth_part1\", \"/content/TableVision/models/pubtables1m_structure_detr_r18.pth_part2\", \"/content/TableVision/models/pubtables1m_structure_detr_r18.pth\")\n"
   ]
  },
  {
   "cell_type": "code",
   "execution_count": null,
   "metadata": {},
   "outputs": [],
   "source": [
    "!pip install PyMuPDF==1.21.1"
   ]
  },
  {
   "cell_type": "code",
   "execution_count": null,
   "metadata": {},
   "outputs": [],
   "source": [
    "import sys\n",
    "from PIL import Image\n",
    "\n",
    "# Thêm đường dẫn đến thư mục 'src' vào danh sách đường dẫn\n",
    "sys.path.append('/content/TableVision/')\n",
    "sys.path.append('/content/TableVision/src/')\n",
    "sys.path.append('/content/TableVision/detr/')\n",
    "from src.inference import TableExtractionPipeline\n",
    "\n",
    "# Create inference pipeline\n",
    "pipe = TableExtractionPipeline(det_config_path='/content/TableVision/src/detection_config.json', \n",
    "                               det_model_path='/content/TableVision/models/pubtables1m_detection_detr_r18.pth', det_device='cuda', \n",
    "                               str_config_path='/content/TableVision/src/structure_config.json', \n",
    "                               str_model_path='/content/TableVision/models/pubtables1m_structure_detr_r18.pth', str_device='cuda')\n",
    "\n",
    "# Recognize table(s) from image\n",
    "\n",
    "img_path = \"/content/TableVision/sample/tablex2.png\"\n",
    "img = Image.open(img_path)\n",
    "tokens = {}\n",
    "extracted_tables = pipe.recognize(img, tokens, out_objects=True, out_cells=True, out_html=True, out_csv=True)\n",
    "\n",
    "# Select table (there could be more than one)\n",
    "try:\n",
    "  extracted_table = extracted_tables[0]\n",
    "except:\n",
    "  extracted_table = extracted_tables\n",
    "\n",
    "# Get output in desired format\n",
    "objects = extracted_table['objects']\n",
    "cells = extracted_table['cells']\n",
    "csv = extracted_table['csv']\n",
    "html = extracted_table['html']\n",
    "\n"
   ]
  }
 ],
 "metadata": {
  "kernelspec": {
   "display_name": "Tensor",
   "language": "python",
   "name": "python3"
  },
  "language_info": {
   "codemirror_mode": {
    "name": "ipython",
    "version": 3
   },
   "file_extension": ".py",
   "mimetype": "text/x-python",
   "name": "python",
   "nbconvert_exporter": "python",
   "pygments_lexer": "ipython3",
   "version": "3.9.16"
  }
 },
 "nbformat": 4,
 "nbformat_minor": 2
}
