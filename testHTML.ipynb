{
 "cells": [
  {
   "cell_type": "code",
   "execution_count": 1,
   "metadata": {},
   "outputs": [
    {
     "name": "stdout",
     "output_type": "stream",
     "text": [
      "Running on Local\n",
      "Đã cài đặt thư viện nhận diện văn bản\n"
     ]
    },
    {
     "name": "stderr",
     "output_type": "stream",
     "text": [
      "/home/codespace/.python/current/lib/python3.10/site-packages/torchvision/models/_utils.py:208: UserWarning: The parameter 'pretrained' is deprecated since 0.13 and may be removed in the future, please use 'weights' instead.\n",
      "  warnings.warn(\n",
      "/home/codespace/.python/current/lib/python3.10/site-packages/torchvision/models/_utils.py:223: UserWarning: Arguments other than a weight enum or `None` for 'weights' are deprecated since 0.13 and may be removed in the future. The current behavior is equivalent to passing `weights=None`.\n",
      "  warnings.warn(msg)\n"
     ]
    },
    {
     "name": "stdout",
     "output_type": "stream",
     "text": [
      "Model weight /tmp/vgg_seq2seq.pth exsits. Ignore download!\n"
     ]
    }
   ],
   "source": [
    "#@title Cài đặt kiểm tra môi trường và tải mã nguồn để lấy dữ liệu\n",
    "# Kiểm tra hiện tại có phải đang ở trong colaboratory hay không\n",
    "import sys\n",
    "\n",
    "IN_COLAB = \"google.colab\" in sys.modules\n",
    "\n",
    "if IN_COLAB:\n",
    "    !git clone https://github.com/HoanChan/TableVision.git TableVision\n",
    "    %cd TableVision\n",
    "else:\n",
    "    print(\"Running on Local\")\n",
    "prePath = \"/content/TableVision/\" if IN_COLAB else \"\"\n",
    "from utils.ocr import *\n",
    "detector = init_VietOCR()"
   ]
  },
  {
   "cell_type": "code",
   "execution_count": 3,
   "metadata": {},
   "outputs": [
    {
     "data": {
      "text/html": [
       "<head><style>\n",
       "    table {\n",
       "    border-collapse: collapse;\n",
       "    border-spacing: 0;\n",
       "    width: 100%;\n",
       "    font-family: sans-serif;\n",
       "    }\n",
       "\n",
       "    th, td {\n",
       "    padding: 8px;\n",
       "    text-align: center;\n",
       "    vertical-align: middle;\n",
       "    }\n",
       "\n",
       "    th {\n",
       "    font-weight: bold;\n",
       "    font-size: 1.2em;\n",
       "    }\n",
       "\n",
       "    tr:nth-child(even) {\n",
       "    background-color: rgba(68, 68, 68, 0.2);\n",
       "    }\n",
       "\n",
       "    table th, table td {\n",
       "    border: 1px solid rgba(68, 68, 68, 0.5);\n",
       "    }\n",
       "    </style></head><body>\n",
       "    <div style=\"display: flex;\">\n",
       "    <div style=\"flex: 1;\">\n",
       "    <img src='sample/xx2.jpg' alt=\"Ảnh link\" style=\"width: 90%;\">\n",
       "    </div>\n",
       "    <div style=\"flex: 1;\"><table><tr><th rowspan=\"2\">STT</th><th rowspan=\"2\">Ngân hàng</th><th colspan=\"3\">Lợi nhuận sau thuế</th></tr><tr><td>9T2019</td><td>9T2018</td><td>% thay đ8i</td></tr><tr><td>1</td><td>Saigonbank</td><td>198</td><td>94</td><td>111,4%</td></tr><tr><td>2</td><td>Sacombank</td><td>1.923</td><td>931</td><td>106,5%</td></tr><tr><td>3</td><td>VIB</td><td>2.331</td><td>1311</td><td>69,3%</td></tr><tr><td>4</td><td>Seabank</td><td>536</td><td>332</td><td>61,4%</td></tr><tr><td>5</td><td>LienvietPostBank</td><td>1.311</td><td>826</td><td>58,7%</td></tr><tr><td>6</td><td>Vietcombank</td><td>14.127</td><td>9.378</td><td>50,6%</td></tr><tr><td>7</td><td>TPBank</td><td>1923</td><td>1290</td><td>49,1%</td></tr><tr><td>8</td><td>NCB</td><td>19</td><td>14</td><td>37,7%</td></tr><tr><td>9</td><td>VietBank</td><td>341</td><td>248</td><td>37,5%</td></tr><tr><td>10</td><td>MBBank</td><td>6412</td><td>4 801</td><td>33,5%</td></tr><tr><td>11</td><td>ABBank</td><td>714</td><td>581</td><td>33,2%</td></tr><tr><td>12</td><td>PGBankek</td><td>164</td><td>138</td><td>18,8%</td></tr><tr><td>13</td><td>ACB</td><td>4.448</td><td>3 772</td><td>17,9%</td></tr><tr><td>14</td><td>VPBank</td><td>5.754</td><td>4.900</td><td>17,4%</td></tr><tr><td>15</td><td>VietABank</td><td>137</td><td>123</td><td>11,8%</td></tr><tr><td>16</td><td>Bac A Bank</td><td>519</td><td>471</td><td>10,0%</td></tr><tr><td>17</td><td>Kienlongbank</td><td>188</td><td>178</td><td>5,6%</td></tr><tr><td>18</td><td>Bản Việt</td><td>67</td><td>115</td><td>41,7%</td></tr><tr><td></td><td>Agribankt</td><td>9.700</td><td>1</td><td>N/A</td></tr></table></div>\n",
       "    </div>\n",
       "    </body>"
      ],
      "text/plain": [
       "<IPython.core.display.HTML object>"
      ]
     },
     "metadata": {},
     "output_type": "display_data"
    }
   ],
   "source": [
    "from IPython.display import display, HTML\n",
    "from detection.border_table_detection import recognize\n",
    "display(HTML(recognize(prePath + \"sample/xx2.jpg\", detector, useBase64=IN_COLAB)))"
   ]
  }
 ],
 "metadata": {
  "kernelspec": {
   "display_name": "Python 3",
   "language": "python",
   "name": "python3"
  },
  "language_info": {
   "codemirror_mode": {
    "name": "ipython",
    "version": 3
   },
   "file_extension": ".py",
   "mimetype": "text/x-python",
   "name": "python",
   "nbconvert_exporter": "python",
   "pygments_lexer": "ipython3",
   "version": "3.10.13"
  }
 },
 "nbformat": 4,
 "nbformat_minor": 2
}
