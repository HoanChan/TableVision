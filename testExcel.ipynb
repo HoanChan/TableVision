{
 "cells": [
  {
   "cell_type": "code",
   "execution_count": 1,
   "metadata": {},
   "outputs": [
    {
     "name": "stdout",
     "output_type": "stream",
     "text": [
      "Running on Local\n",
      "Đã cài đặt thư viện nhận diện văn bản\n"
     ]
    },
    {
     "name": "stderr",
     "output_type": "stream",
     "text": [
      "/home/codespace/.python/current/lib/python3.10/site-packages/torchvision/models/_utils.py:208: UserWarning: The parameter 'pretrained' is deprecated since 0.13 and may be removed in the future, please use 'weights' instead.\n",
      "  warnings.warn(\n",
      "/home/codespace/.python/current/lib/python3.10/site-packages/torchvision/models/_utils.py:223: UserWarning: Arguments other than a weight enum or `None` for 'weights' are deprecated since 0.13 and may be removed in the future. The current behavior is equivalent to passing `weights=None`.\n",
      "  warnings.warn(msg)\n"
     ]
    },
    {
     "name": "stdout",
     "output_type": "stream",
     "text": [
      "Model weight /tmp/vgg_seq2seq.pth exsits. Ignore download!\n"
     ]
    }
   ],
   "source": [
    "#@title Cài đặt kiểm tra môi trường và tải mã nguồn để lấy dữ liệu\n",
    "# Kiểm tra hiện tại có phải đang ở trong colaboratory hay không\n",
    "import sys\n",
    "\n",
    "IN_COLAB = \"google.colab\" in sys.modules\n",
    "\n",
    "if IN_COLAB:\n",
    "    !git clone https://github.com/HoanChan/TableVision.git TableVision\n",
    "    %cd TableVision\n",
    "else:\n",
    "    print(\"Running on Local\")\n",
    "prePath = \"/content/TableVision/\" if IN_COLAB else \"\"\n",
    "from utils.ocr import *\n",
    "detector = init_VietOCR()"
   ]
  },
  {
   "cell_type": "code",
   "execution_count": 3,
   "metadata": {},
   "outputs": [],
   "source": [
    "from detection.border_table_detection import imgPath_to_cells, add_text_to_cell\n",
    "from utils.table import cells_to_xlsx\n",
    "cells, image_removed = imgPath_to_cells(prePath + \"sample/vn1.jpg\")\n",
    "cells = add_text_to_cell(cells, image_removed, detector)\n",
    "cells_to_xlsx(cells, prePath + \"excel/vn1.xlsx\")"
   ]
  },
  {
   "cell_type": "code",
   "execution_count": 2,
   "metadata": {},
   "outputs": [
    {
     "name": "stdout",
     "output_type": "stream",
     "text": [
      "row: 1, column: 1, rowspan: 1, colspan: 3\n",
      "Merged A1:C1\n",
      "row: 2, column: 1, rowspan: 1, colspan: 1\n",
      "row: 2, column: 2, rowspan: 1, colspan: 1\n",
      "row: 2, column: 3, rowspan: 1, colspan: 1\n",
      "row: 3, column: 1, rowspan: 1, colspan: 1\n",
      "row: 3, column: 2, rowspan: 1, colspan: 1\n",
      "row: 3, column: 3, rowspan: 1, colspan: 1\n",
      "row: 4, column: 1, rowspan: 1, colspan: 1\n",
      "row: 4, column: 2, rowspan: 1, colspan: 1\n",
      "row: 4, column: 3, rowspan: 1, colspan: 1\n",
      "row: 5, column: 1, rowspan: 1, colspan: 1\n",
      "row: 5, column: 2, rowspan: 1, colspan: 1\n",
      "row: 5, column: 3, rowspan: 1, colspan: 1\n",
      "row: 6, column: 1, rowspan: 1, colspan: 1\n",
      "row: 6, column: 2, rowspan: 1, colspan: 1\n",
      "row: 6, column: 3, rowspan: 1, colspan: 1\n",
      "row: 7, column: 1, rowspan: 1, colspan: 1\n",
      "row: 7, column: 2, rowspan: 1, colspan: 1\n",
      "row: 7, column: 3, rowspan: 1, colspan: 1\n",
      "row: 8, column: 1, rowspan: 1, colspan: 3\n",
      "Merged A8:C8\n",
      "Saved to excel/L2.xlsx\n"
     ]
    }
   ],
   "source": [
    "from detection.border_table_detection import imgPath_to_cells, add_text_to_cell\n",
    "from utils.table import cells_to_xlsx\n",
    "cells, image_removed = imgPath_to_cells(prePath + \"sample/L2.jpg\")\n",
    "cells = add_text_to_cell(cells, image_removed, detector)\n",
    "cells_to_xlsx(cells, prePath + \"excel/L2.xlsx\")"
   ]
  }
 ],
 "metadata": {
  "kernelspec": {
   "display_name": "Python 3",
   "language": "python",
   "name": "python3"
  },
  "language_info": {
   "codemirror_mode": {
    "name": "ipython",
    "version": 3
   },
   "file_extension": ".py",
   "mimetype": "text/x-python",
   "name": "python",
   "nbconvert_exporter": "python",
   "pygments_lexer": "ipython3",
   "version": "3.10.13"
  }
 },
 "nbformat": 4,
 "nbformat_minor": 2
}
