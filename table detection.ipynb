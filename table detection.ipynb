{
 "cells": [
  {
   "cell_type": "code",
   "execution_count": 2,
   "metadata": {},
   "outputs": [
    {
     "ename": "ModuleNotFoundError",
     "evalue": "No module named 'fitz'",
     "output_type": "error",
     "traceback": [
      "\u001b[1;31m---------------------------------------------------------------------------\u001b[0m",
      "\u001b[1;31mModuleNotFoundError\u001b[0m                       Traceback (most recent call last)",
      "\u001b[1;32md:\\BIG Projects\\Python\\TableVision\\table detection.ipynb Cell 1\u001b[0m line \u001b[0;36m1\n\u001b[1;32m----> <a href='vscode-notebook-cell:/d%3A/BIG%20Projects/Python/TableVision/table%20detection.ipynb#W0sZmlsZQ%3D%3D?line=0'>1</a>\u001b[0m \u001b[39mfrom\u001b[39;00m \u001b[39msrc\u001b[39;00m\u001b[39m.\u001b[39;00m\u001b[39minference\u001b[39;00m \u001b[39mimport\u001b[39;00m TableExtractionPipeline\n\u001b[0;32m      <a href='vscode-notebook-cell:/d%3A/BIG%20Projects/Python/TableVision/table%20detection.ipynb#W0sZmlsZQ%3D%3D?line=2'>3</a>\u001b[0m \u001b[39m# Create inference pipeline\u001b[39;00m\n\u001b[0;32m      <a href='vscode-notebook-cell:/d%3A/BIG%20Projects/Python/TableVision/table%20detection.ipynb#W0sZmlsZQ%3D%3D?line=3'>4</a>\u001b[0m pipe \u001b[39m=\u001b[39m TableExtractionPipeline(det_config_path\u001b[39m=\u001b[39m\u001b[39m'\u001b[39m\u001b[39msrc\u001b[39m\u001b[39m\\\u001b[39m\u001b[39mdetection_config.json\u001b[39m\u001b[39m'\u001b[39m, det_model_path\u001b[39m=\u001b[39m\u001b[39m'\u001b[39m\u001b[39mmodel\u001b[39m\u001b[39m\\\u001b[39m\u001b[39mpubtables1m_detection_detr_r18.pth\u001b[39m\u001b[39m'\u001b[39m, det_device\u001b[39m=\u001b[39m\u001b[39m'\u001b[39m\u001b[39mcuda\u001b[39m\u001b[39m'\u001b[39m, str_config_path\u001b[39m=\u001b[39m\u001b[39m'\u001b[39m\u001b[39msrc\u001b[39m\u001b[39m\\\u001b[39m\u001b[39mstructure_config.json\u001b[39m\u001b[39m'\u001b[39m, str_model_path\u001b[39m=\u001b[39m\u001b[39m'\u001b[39m\u001b[39mmodel\u001b[39m\u001b[39m\\\u001b[39m\u001b[39mpubtables1m_structure_detr_r18.pth\u001b[39m\u001b[39m'\u001b[39m, str_device\u001b[39m=\u001b[39m\u001b[39m'\u001b[39m\u001b[39mcuda\u001b[39m\u001b[39m'\u001b[39m)\n",
      "File \u001b[1;32md:\\BIG Projects\\Python\\TableVision\\src\\inference.py:13\u001b[0m\n\u001b[0;32m     11\u001b[0m \u001b[39mfrom\u001b[39;00m \u001b[39mtorchvision\u001b[39;00m \u001b[39mimport\u001b[39;00m transforms\n\u001b[0;32m     12\u001b[0m \u001b[39mfrom\u001b[39;00m \u001b[39mPIL\u001b[39;00m \u001b[39mimport\u001b[39;00m Image\n\u001b[1;32m---> 13\u001b[0m \u001b[39mfrom\u001b[39;00m \u001b[39mfitz\u001b[39;00m \u001b[39mimport\u001b[39;00m Rect\n\u001b[0;32m     14\u001b[0m \u001b[39mimport\u001b[39;00m \u001b[39mnumpy\u001b[39;00m \u001b[39mas\u001b[39;00m \u001b[39mnp\u001b[39;00m\n\u001b[0;32m     15\u001b[0m \u001b[39mimport\u001b[39;00m \u001b[39mpandas\u001b[39;00m \u001b[39mas\u001b[39;00m \u001b[39mpd\u001b[39;00m\n",
      "\u001b[1;31mModuleNotFoundError\u001b[0m: No module named 'fitz'"
     ]
    }
   ],
   "source": [
    "from src.inference import TableExtractionPipeline\n",
    "\n",
    "# Create inference pipeline\n",
    "pipe = TableExtractionPipeline(det_config_path='src\\detection_config.json', det_model_path='model\\pubtables1m_detection_detr_r18.pth', det_device='cuda', str_config_path='src\\structure_config.json', str_model_path='model\\pubtables1m_structure_detr_r18.pth', str_device='cuda')\n",
    "\n",
    "# Recognize table(s) from image\n",
    "img = \"F:/Python/Table Recognition/pubtables-1m/PubTables-1M-Structure/images/PMC5070146_table_0.jpg\"\n",
    "tokens = {}\n",
    "extracted_tables = pipe.recognize(img, tokens, out_objects=True, out_cells=True, out_html=True, out_csv=True)\n",
    "\n",
    "# Select table (there could be more than one)\n",
    "extracted_table = extracted_tables[0]\n",
    "\n",
    "# Get output in desired format\n",
    "objects = extracted_table['objects']\n",
    "cells = extracted_table['cells']\n",
    "csv = extracted_table['csv']\n",
    "html = extracted_table['html']"
   ]
  },
  {
   "cell_type": "code",
   "execution_count": null,
   "metadata": {},
   "outputs": [],
   "source": []
  }
 ],
 "metadata": {
  "kernelspec": {
   "display_name": "Tensor",
   "language": "python",
   "name": "python3"
  },
  "language_info": {
   "codemirror_mode": {
    "name": "ipython",
    "version": 3
   },
   "file_extension": ".py",
   "mimetype": "text/x-python",
   "name": "python",
   "nbconvert_exporter": "python",
   "pygments_lexer": "ipython3",
   "version": "3.9.16"
  }
 },
 "nbformat": 4,
 "nbformat_minor": 2
}
